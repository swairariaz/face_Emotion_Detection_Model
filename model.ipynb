{
 "cells": [
  {
   "cell_type": "code",
   "execution_count": null,
   "id": "6c9299c5-bb4b-4726-9b69-16aa516bd78d",
   "metadata": {},
   "outputs": [],
   "source": [
    "from keras.utils import to_categorical\n",
    "from keras_preprocessing.image import load_img\n",
    "from keras.models import Sequential\n",
    "from keras.layers import Dense, Conv2D, Dropout, Flatten, MaxPooling2D\n",
    "import os\n",
    "import pandas as pd\n",
    "import numpy as np\n",
    "from tqdm.notebook import tqdm\n",
    "from sklearn.preprocessing import LabelEncoder\n",
    "from keras.models import model_from_json"
   ]
  },
  {
   "cell_type": "markdown",
   "id": "170a7655",
   "metadata": {},
   "source": [
    "#Create directories"
   ]
  },
  {
   "cell_type": "code",
   "execution_count": null,
   "id": "54984555-2a41-4f9f-866f-271a6641b567",
   "metadata": {},
   "outputs": [],
   "source": [
    "TRAIN_DIR = 'images/training'\n",
    "TEST_DIR = 'images/testing'"
   ]
  },
  {
   "cell_type": "markdown",
   "id": "0bd0b5b7",
   "metadata": {},
   "source": [
    "#Creating Datafram"
   ]
  },
  {
   "cell_type": "code",
   "execution_count": null,
   "id": "0b96826d",
   "metadata": {},
   "outputs": [],
   "source": [
    "def createdataframe(dir):\n",
    "    image_paths = []\n",
    "    labels = []\n",
    "    for label in os.listdir(dir):\n",
    "        for imagename in os.listdir(os.path.join(dir,label)):\n",
    "            image_paths.append(os.path.join(dir,label,imagename))\n",
    "            labels.append(label)\n",
    "        print(label, \"completed\")\n",
    "    return image_paths,labels"
   ]
  },
  {
   "cell_type": "markdown",
   "id": "3659d4b0",
   "metadata": {},
   "source": [
    "#Creating Dataframe for Training"
   ]
  },
  {
   "cell_type": "code",
   "execution_count": null,
   "id": "f3dae8f3",
   "metadata": {},
   "outputs": [],
   "source": [
    "training = pd.DataFrame()\n",
    "training['image'], training['label'] = createdataframe(TRAIN_DIR)"
   ]
  },
  {
   "cell_type": "code",
   "execution_count": null,
   "id": "ec19b81f",
   "metadata": {},
   "outputs": [],
   "source": [
    "print(training)"
   ]
  },
  {
   "cell_type": "markdown",
   "id": "cfe7d3bc",
   "metadata": {},
   "source": [
    "#Creating Dataframe for testing"
   ]
  },
  {
   "cell_type": "code",
   "execution_count": null,
   "id": "7ed3b3c7",
   "metadata": {},
   "outputs": [],
   "source": [
    "testing = pd.DataFrame()\n",
    "testing['image'], testing['label'] = createdataframe(TEST_DIR)"
   ]
  },
  {
   "cell_type": "code",
   "execution_count": null,
   "id": "f07ca0f9",
   "metadata": {},
   "outputs": [],
   "source": [
    "print(testing)"
   ]
  },
  {
   "cell_type": "code",
   "execution_count": null,
   "id": "07eeb40e",
   "metadata": {},
   "outputs": [],
   "source": [
    "def extract_features(images):\n",
    "    features = []\n",
    "    for image in tqdm(images):\n",
    "        img = load_img(image,grayscale = True)\n",
    "        img = np.array(img)\n",
    "        features.append(img)\n",
    "    features = np.array(features)\n",
    "    features = features.reshape(len(features),48,48,1)\n",
    "    return features"
   ]
  },
  {
   "cell_type": "code",
   "execution_count": null,
   "id": "df760055",
   "metadata": {},
   "outputs": [],
   "source": [
    "training_features = extract_features(training['image'])"
   ]
  },
  {
   "cell_type": "code",
   "execution_count": null,
   "id": "b13bad04",
   "metadata": {},
   "outputs": [],
   "source": [
    "testing_features = extract_features(testing['image'])"
   ]
  },
  {
   "cell_type": "code",
   "execution_count": null,
   "id": "092c0378",
   "metadata": {},
   "outputs": [],
   "source": [
    "x_training = training_features/255.0\n",
    "x_testing = testing_features/255.0"
   ]
  },
  {
   "cell_type": "markdown",
   "id": "3a7aa842",
   "metadata": {},
   "source": [
    "#Creating label using sklearn model"
   ]
  },
  {
   "cell_type": "code",
   "execution_count": null,
   "id": "d396dc8d",
   "metadata": {},
   "outputs": [],
   "source": [
    "le = LabelEncoder()\n",
    "le.fit(training['label'])"
   ]
  },
  {
   "cell_type": "code",
   "execution_count": null,
   "id": "5150f1e3",
   "metadata": {},
   "outputs": [],
   "source": [
    "y_training = le.transform(training['label'])\n",
    "y_testing = le.transform(testing['label'])"
   ]
  },
  {
   "cell_type": "code",
   "execution_count": null,
   "id": "6c014d5f",
   "metadata": {},
   "outputs": [],
   "source": [
    "y_tarining = to_categorical(y_training,num_classes = 7)\n",
    "y_testing = to_categorical(y_testing,num_classes = 7)"
   ]
  },
  {
   "cell_type": "markdown",
   "id": "220e361b",
   "metadata": {},
   "source": [
    "#Creating model"
   ]
  },
  {
   "cell_type": "code",
   "execution_count": null,
   "id": "1bde8afb",
   "metadata": {},
   "outputs": [],
   "source": [
    "model = Sequential()\n",
    "\n",
    "# convolutional layers\n",
    "model.add(Conv2D(128, kernel_size=(3,3), activation='relu', input_shape=(48,48,1)))\n",
    "model.add(MaxPooling2D(pool_size=(2,2)))\n",
    "model.add(Dropout(0.4))\n",
    "\n",
    "model.add(Conv2D(256, kernel_size=(3,3), activation='relu'))\n",
    "model.add(MaxPooling2D(pool_size=(2,2)))\n",
    "model.add(Dropout(0.4))\n",
    "\n",
    "model.add(Conv2D(512, kernel_size=(3,3), activation='relu'))\n",
    "model.add(MaxPooling2D(pool_size=(2,2)))\n",
    "model.add(Dropout(0.4))\n",
    "\n",
    "model.add(Conv2D(512, kernel_size=(3,3), activation='relu'))\n",
    "model.add(MaxPooling2D(pool_size=(2,2)))\n",
    "model.add(Dropout(0.4))\n",
    "\n",
    "model.add(Flatten())\n",
    "\n",
    "# fully connected layers\n",
    "model.add(Dense(512, activation='relu'))\n",
    "model.add(Dropout(0.4))\n",
    "\n",
    "model.add(Dense(256, activation='relu'))\n",
    "model.add(Dropout(0.3))\n",
    "\n",
    "# output layer\n",
    "model.add(Dense(7, activation='softmax'))\n"
   ]
  },
  {
   "cell_type": "code",
   "execution_count": null,
   "id": "b6eb0110",
   "metadata": {},
   "outputs": [],
   "source": [
    "model.compile(optimizer = 'adam', loss = 'categorical_crossentropy', metrics = ['accuracy'])"
   ]
  },
  {
   "cell_type": "code",
   "execution_count": null,
   "id": "f8f680f3",
   "metadata": {},
   "outputs": [],
   "source": [
    "model.fit(x = x_training,y = y_tarining, batch_size= 128, epochs = 100, validation_data = (x_testing, y_testing))"
   ]
  },
  {
   "cell_type": "code",
   "execution_count": null,
   "id": "49a1e88a",
   "metadata": {},
   "outputs": [],
   "source": [
    "model_json = model.to_json()\n",
    "with open(\"emotiondetector.json\",'w') as json_file:\n",
    "    json_file.write(model_json)\n",
    "model.save(\"emotiondetector.h5\")"
   ]
  },
  {
   "cell_type": "code",
   "execution_count": null,
   "id": "34576b69",
   "metadata": {},
   "outputs": [],
   "source": [
    "json_file = open(\"emotiondetector.json\", \"r\")\n",
    "model_json = json_file.read()\n",
    "json_file.close()\n",
    "model = model_from_json(model_json)\n",
    "model.load_weights(\"emotiondetector.h5\")"
   ]
  },
  {
   "cell_type": "code",
   "execution_count": null,
   "id": "3403a807",
   "metadata": {},
   "outputs": [],
   "source": [
    "label = ['angry', 'disgust', 'fear', 'happy', 'neutral', 'sad', 'surprise']"
   ]
  },
  {
   "cell_type": "markdown",
   "id": "3b34bb40",
   "metadata": {},
   "source": [
    "Testing"
   ]
  },
  {
   "cell_type": "code",
   "execution_count": null,
   "id": "e4b664a5",
   "metadata": {},
   "outputs": [],
   "source": [
    "def ef(image):\n",
    "    img = load_img(image, grayscale=True)\n",
    "    feature = np.array(img)\n",
    "    feature = feature.reshape(1, 48, 48, 1)\n",
    "    return feature / 255.0"
   ]
  },
  {
   "cell_type": "code",
   "execution_count": null,
   "id": "1dda269a",
   "metadata": {},
   "outputs": [],
   "source": [
    "image = 'images/training/sad/42.jpg'\n",
    "print(\"original image is of sad\")\n",
    "img = ef(image)\n",
    "pred = model.predict(img)\n",
    "pred_label = label[pred.argmax()]\n",
    "print(\"model prediction is \", pred_label)"
   ]
  }
 ],
 "metadata": {
  "kernelspec": {
   "display_name": "Python 3",
   "language": "python",
   "name": "python3"
  },
  "language_info": {
   "codemirror_mode": {
    "name": "ipython",
    "version": 3
   },
   "file_extension": ".py",
   "mimetype": "text/x-python",
   "name": "python",
   "nbconvert_exporter": "python",
   "pygments_lexer": "ipython3",
   "version": "3.10.7"
  }
 },
 "nbformat": 4,
 "nbformat_minor": 5
}
